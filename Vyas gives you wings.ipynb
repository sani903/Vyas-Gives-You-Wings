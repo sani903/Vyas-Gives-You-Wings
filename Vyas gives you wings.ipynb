{
 "cells": [
  {
   "cell_type": "code",
   "execution_count": null,
   "id": "cafefc3f",
   "metadata": {},
   "outputs": [],
   "source": [
    "import random "
   ]
  },
  {
   "cell_type": "code",
   "execution_count": null,
   "id": "910cff1b",
   "metadata": {},
   "outputs": [],
   "source": [
    "wingiez = []\n",
    "no_of_members = input(\"Enter the number of members in your wing: \")\n",
    "for i in range(int(no_of_members)):\n",
    "    name = input(\"Enter the name of member \"+str(i+1)+\":\")\n",
    "    wingiez.append(name)"
   ]
  },
  {
   "cell_type": "code",
   "execution_count": null,
   "id": "560e8c75",
   "metadata": {},
   "outputs": [],
   "source": [
    "final_rooms = {}\n",
    "for wingie in wingiez:\n",
    "    n = random.randint(351,359)\n",
    "    final_rooms[wingie] = n"
   ]
  },
  {
   "cell_type": "code",
   "execution_count": null,
   "id": "22af3f38",
   "metadata": {},
   "outputs": [],
   "source": [
    "final_rooms"
   ]
  },
  {
   "cell_type": "code",
   "execution_count": null,
   "id": "bc1fa846",
   "metadata": {},
   "outputs": [],
   "source": []
  }
 ],
 "metadata": {
  "kernelspec": {
   "display_name": "Python [conda env:miniforge3-tensorflow] *",
   "language": "python",
   "name": "conda-env-miniforge3-tensorflow-py"
  },
  "language_info": {
   "codemirror_mode": {
    "name": "ipython",
    "version": 3
   },
   "file_extension": ".py",
   "mimetype": "text/x-python",
   "name": "python",
   "nbconvert_exporter": "python",
   "pygments_lexer": "ipython3",
   "version": "3.9.6"
  }
 },
 "nbformat": 4,
 "nbformat_minor": 5
}
