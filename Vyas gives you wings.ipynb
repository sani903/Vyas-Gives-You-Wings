{
 "cells": [
  {
   "cell_type": "code",
   "execution_count": 1,
   "id": "cafefc3f",
   "metadata": {},
   "outputs": [],
   "source": [
    "import random "
   ]
  },
  {
   "cell_type": "code",
   "execution_count": 2,
   "id": "910cff1b",
   "metadata": {},
   "outputs": [],
   "source": [
    "wingiez = []\n",
    "no_of_members = input(\"Enter the number of members in your wing: \")\n",
    "for i in range(int(no_of_members)):\n",
    "    name = input(\"Enter the name of member \"+str(i+1)+\":\")\n",
    "    wingiez.append(name)"
   ]
  },
  {
   "cell_type": "code",
   "execution_count": 3,
   "id": "560e8c75",
   "metadata": {},
   "outputs": [],
   "source": [
    "final_rooms = {}\n",
    "already_alloted = []\n",
    "for wingie in wingiez:\n",
    "    while(True):\n",
    "        n = random.randint(351,359)\n",
    "        if n not in already_alloted:\n",
    "            already_alloted.append(n)\n",
    "            final_rooms[wingie] = n\n",
    "            break\n",
    "    "
   ]
  },
  {
   "cell_type": "code",
   "execution_count": 4,
   "id": "22af3f38",
   "metadata": {},
   "outputs": [
    {
     "data": {
      "text/plain": [
       "{'Sani': 355,\n",
       " 'Soumil': 354,\n",
       " 'Nehal': 353,\n",
       " 'Kushal': 357,\n",
       " 'Sid': 356,\n",
       " 'Deep': 359,\n",
       " 'Arya': 358,\n",
       " 'Praks': 352,\n",
       " 'Kalash': 351}"
      ]
     },
     "execution_count": 4,
     "metadata": {},
     "output_type": "execute_result"
    }
   ],
   "source": [
    "final_rooms"
   ]
  },
  {
   "cell_type": "code",
   "execution_count": null,
   "id": "bc1fa846",
   "metadata": {},
   "outputs": [],
   "source": []
  }
 ],
 "metadata": {
  "interpreter": {
   "hash": "24d233afbf3fc8d4c22caea6d87ecfd74fa38eb8c1a8ebd1051274102ef745a1"
  },
  "kernelspec": {
   "display_name": "Python 3.9.6",
   "language": "python",
   "name": "python3"
  },
  "language_info": {
   "codemirror_mode": {
    "name": "ipython",
    "version": 3
   },
   "file_extension": ".py",
   "mimetype": "text/x-python",
   "name": "python",
   "nbconvert_exporter": "python",
   "pygments_lexer": "ipython3",
   "version": "3.9.6"
  }
 },
 "nbformat": 4,
 "nbformat_minor": 5
}
