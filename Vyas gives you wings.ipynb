{
 "cells": [
  {
   "cell_type": "code",
   "execution_count": 1,
   "id": "cafefc3f",
   "metadata": {},
   "outputs": [],
   "source": [
    "import random "
   ]
  },
  {
   "cell_type": "code",
   "execution_count": 2,
   "id": "910cff1b",
   "metadata": {},
   "outputs": [
    {
     "name": "stdout",
     "output_type": "stream",
     "text": [
      "Enter the number of members in your wing: 9\n",
      "Enter the name of member 1:Sanidhya\n",
      "Enter the name of member 2:Kushal\n",
      "Enter the name of member 3:Soumil\n",
      "Enter the name of member 4:Siddhant\n",
      "Enter the name of member 5:Arya\n",
      "Enter the name of member 6:Deep\n",
      "Enter the name of member 7:Kalash\n",
      "Enter the name of member 8:Nehal\n",
      "Enter the name of member 9:Prakhar\n"
     ]
    }
   ],
   "source": [
    "wingiez = []\n",
    "no_of_members = input(\"Enter the number of members in your wing: \")\n",
    "for i in range(int(no_of_members)):\n",
    "    name = input(\"Enter the name of member \"+str(i+1)+\":\")\n",
    "    wingiez.append(name)"
   ]
  },
  {
   "cell_type": "code",
   "execution_count": 3,
   "id": "560e8c75",
   "metadata": {},
   "outputs": [],
   "source": [
    "final_rooms = {}\n",
    "for wingie in wingiez:\n",
    "    n = random.randint(351,359)\n",
    "    final_rooms[wingie] = n"
   ]
  },
  {
   "cell_type": "code",
   "execution_count": 4,
   "id": "22af3f38",
   "metadata": {},
   "outputs": [
    {
     "data": {
      "text/plain": [
       "{'Sanidhya': 351,\n",
       " 'Kushal': 358,\n",
       " 'Soumil': 359,\n",
       " 'Siddhant': 358,\n",
       " 'Arya': 357,\n",
       " 'Deep': 355,\n",
       " 'Kalash': 353,\n",
       " 'Nehal': 358,\n",
       " 'Prakhar': 357}"
      ]
     },
     "execution_count": 4,
     "metadata": {},
     "output_type": "execute_result"
    }
   ],
   "source": [
    "final_rooms"
   ]
  },
  {
   "cell_type": "code",
   "execution_count": null,
   "id": "bc1fa846",
   "metadata": {},
   "outputs": [],
   "source": []
  }
 ],
 "metadata": {
  "kernelspec": {
   "display_name": "Python [conda env:miniforge3-tensorflow] *",
   "language": "python",
   "name": "conda-env-miniforge3-tensorflow-py"
  },
  "language_info": {
   "codemirror_mode": {
    "name": "ipython",
    "version": 3
   },
   "file_extension": ".py",
   "mimetype": "text/x-python",
   "name": "python",
   "nbconvert_exporter": "python",
   "pygments_lexer": "ipython3",
   "version": "3.9.6"
  }
 },
 "nbformat": 4,
 "nbformat_minor": 5
}
